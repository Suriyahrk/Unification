{
 "cells": [
  {
   "cell_type": "code",
   "execution_count": 2,
   "metadata": {},
   "outputs": [
    {
     "name": "stdout",
     "output_type": "stream",
     "text": [
      "mu0*x11**2/2 + mu0*y11**2/2 + mu1*x11*x12 + mu1*y11*y12 + mu10*x21**2/2 + mu10*y21**2/2 + mu11*x21*x22 + mu11*y21*y22 + mu12*x21*x23 - mu12*y21*y23 + mu13*x21*x24 - mu13*y21*y24 + mu14*x22**2/2 + mu14*y22**2/2 + mu15*x22*x23 - mu15*y22*y23 + mu16*x22*x24 - mu16*y22*y24 + mu17*x23**2/2 + mu17*y23**2/2 + mu18*x23*x24 + mu18*y23*y24 + mu19*x24**2/2 + mu19*y24**2/2 + mu2*x11*x13 - mu2*y11*y13 + mu20*xH**2/2 + mu20*yH**2/2 + mu3*x11*x14 - mu3*y11*y14 + mu4*x12**2/2 + mu4*y12**2/2 + mu5*x12*x13 - mu5*y12*y13 + mu6*x12*x14 - mu6*y12*y14 + mu7*x13**2/2 + mu7*y13**2/2 + mu8*x13*x14 + mu8*y13*y14 + mu9*x14**2/2 + mu9*y14**2/2\n"
     ]
    }
   ],
   "source": [
    "import numpy as np\n",
    "import sympy as smp\n",
    "from ordered_set import OrderedSet\n",
    "from sympy import I\n",
    "\n",
    "\n",
    "x11, x12, x13, x14 , x21, x22, x23, x24 = smp.symbols('x11 x12 x13 x14 x21 x22 x23 x24', real=True)\n",
    "y11, y12, y13, y14 , y21, y22, y23, y24 = smp.symbols('y11 y12 y13 y14 y21 y22 y23 y24', real=True)\n",
    "xH, yH = smp.symbols('xH yH', real=True)\n",
    "\n",
    "sqrt2 = smp.sqrt(2)\n",
    "\n",
    "LS = [\n",
    "    [(x11 + I * y11) / sqrt2, [3, 1, 1/3]], [(x11 - I * y11) / sqrt2, [-3, 1, -1/3]],\n",
    "    [(x12 + I * y12) / sqrt2, [3, 1, 1/3]], [(x12 - I * y12) / sqrt2, [-3, 1, -1/3]],\n",
    "    [(x13 + I * y13) / sqrt2, [-3, 1, -1/3]], [(x13 - I * y13) / sqrt2, [3, 1, 1/3]],\n",
    "    [(x14 + I * y14) / sqrt2, [-3, 1, -1/3]], [(x14 - I * y14) / sqrt2, [3, 1, 1/3]],\n",
    "    [(x21 + I * y21) / sqrt2, [3, 2, 1/6]], [(x21 - I * y21) / sqrt2, [-3, 2, -1/6]],\n",
    "    [(x22 + I * y22) / sqrt2, [3, 2, 1/6]], [(x22 - I * y22) / sqrt2, [-3, 2, -1/6]],\n",
    "    [(x23 + I * y23) / sqrt2, [-3, 2, -1/6]], [(x23 - I * y23) / sqrt2, [3, 2, 1/6]],\n",
    "    [(x24 + I * y24) / sqrt2, [-3, 2, -1/6]], [(x24 - I * y24) / sqrt2, [3, 2, 1/6]],\n",
    "    [(xH + I * yH) / sqrt2, [1, 2, 1/2]], [(xH - I * yH) / sqrt2, [1, 2, -1/2]]\n",
    "]\n",
    "n = len(LS)\n",
    "\n",
    "# Defining the ordered set to have some order in giving the mu values\n",
    "pot2_os = OrderedSet()\n",
    "\n",
    "for i in range(0, n):\n",
    "    for j in range(i, n):\n",
    "        if LS[i][1][0] + LS[j][1][0] == 0 or LS[i][1][0] * LS[j][1][0] == 1:\n",
    "            if LS[i][1][1] * LS[j][1][1] == 1 or LS[i][1][1] * LS[j][1][1] == 4:\n",
    "                if LS[i][1][2] + LS[j][1][2] == 0:\n",
    "                    if LS[i][0] * LS[j][0] == smp.conjugate(LS[i][0] * LS[j][0]):\n",
    "                        temp = LS[i][0] * LS[j][0]\n",
    "                    else:\n",
    "                        temp = LS[i][0] * LS[j][0] + smp.conjugate(LS[i][0] * LS[j][0])\n",
    "                    # Adding the elements to the set duplicates wont be added  \n",
    "                    pot2_os.add(smp.expand(temp))\n",
    "\n",
    "# Convert\n",
    "pot2_list = list(pot2_os)\n",
    "n_ind = len(pot2_list)\n",
    "\n",
    "mu = [smp.symbols(f'mu{i}') for i in range(0, n_ind)]\n",
    "L = [smp.symbols(f'L{i}') for i in range(0, n_ind)]\n",
    "\n",
    "pot2 = 0\n",
    "for i in range(0, n_ind):\n",
    "    pot2 += mu[i] * pot2_list[i]\n",
    "\n",
    "# Only the constrained second order terms\n",
    "pot4 = 0\n",
    "\n",
    "for i in range(0, n_ind):\n",
    "    pot4 += L[i] * pot2_list[i] * (xH ** 2 + yH ** 2)/2 \n",
    "\n",
    "potential = pot2 + pot4\n",
    "\n",
    "print(smp.expand(pot2))"
   ]
  },
  {
   "cell_type": "markdown",
   "metadata": {},
   "source": []
  },
  {
   "cell_type": "code",
   "execution_count": 3,
   "metadata": {},
   "outputs": [
    {
     "name": "stdout",
     "output_type": "stream",
     "text": [
      "[0, 0, 0, 0, 0, 0, 0, 0, 0, 0, 0, 0, 0, 0, 0, 0, 14886936*L20 + 246*mu20, 0]\n"
     ]
    }
   ],
   "source": [
    "\n",
    "\"\"\" \n",
    "First derivative condition\n",
    "\"\"\"\n",
    "der_symbols = [x11, y11, x12, y12, x13, y13, x14, y14, x21, y21, x22, y22, x23, y23, x24, y24, xH, yH]\n",
    "\n",
    "# Defining the array to constain the expression for dV/dSii\n",
    "derivative_array = []\n",
    "\n",
    "for i in range(0, n):\n",
    "    derivative_array.append(smp.diff(potential, der_symbols[i]))\n",
    "\n",
    "# Vaccum expectation value of Higgs\n",
    "vev = 246\n",
    "\n",
    "# Defining the dictionary to substitute the values in the expression\n",
    "sub_dict = {}\n",
    "\n",
    "values= [0, 0, 0, 0, 0, 0, 0, 0, 0, 0, 0, 0, 0, 0, 0, 0, vev, 0]\n",
    "\n",
    "for i in range(0, n):\n",
    "    sub_dict[der_symbols[i]] = values[i]\n",
    "\n",
    "# The equation after substituting the values of minimas\n",
    "\n",
    "substituted_array = [expr.subs(sub_dict) for expr in derivative_array]\n",
    "\n",
    "print(substituted_array)"
   ]
  },
  {
   "cell_type": "code",
   "execution_count": 4,
   "metadata": {},
   "outputs": [
    {
     "data": {
      "text/latex": [
       "$\\displaystyle \\left[\\begin{array}{cccccccccccccccccc}30258 L_{0} + \\mu_{0} & 0 & 30258 L_{1} + \\mu_{1} & 0 & 30258 L_{2} + \\mu_{2} & 0 & 30258 L_{3} + \\mu_{3} & 0 & 0 & 0 & 0 & 0 & 0 & 0 & 0 & 0 & 0 & 0\\\\0 & 30258 L_{0} + \\mu_{0} & 0 & 30258 L_{1} + \\mu_{1} & 0 & - 30258 L_{2} - \\mu_{2} & 0 & - 30258 L_{3} - \\mu_{3} & 0 & 0 & 0 & 0 & 0 & 0 & 0 & 0 & 0 & 0\\\\30258 L_{1} + \\mu_{1} & 0 & 30258 L_{4} + \\mu_{4} & 0 & 30258 L_{5} + \\mu_{5} & 0 & 30258 L_{6} + \\mu_{6} & 0 & 0 & 0 & 0 & 0 & 0 & 0 & 0 & 0 & 0 & 0\\\\0 & 30258 L_{1} + \\mu_{1} & 0 & 30258 L_{4} + \\mu_{4} & 0 & - 30258 L_{5} - \\mu_{5} & 0 & - 30258 L_{6} - \\mu_{6} & 0 & 0 & 0 & 0 & 0 & 0 & 0 & 0 & 0 & 0\\\\30258 L_{2} + \\mu_{2} & 0 & 30258 L_{5} + \\mu_{5} & 0 & 30258 L_{7} + \\mu_{7} & 0 & 30258 L_{8} + \\mu_{8} & 0 & 0 & 0 & 0 & 0 & 0 & 0 & 0 & 0 & 0 & 0\\\\0 & - 30258 L_{2} - \\mu_{2} & 0 & - 30258 L_{5} - \\mu_{5} & 0 & 30258 L_{7} + \\mu_{7} & 0 & 30258 L_{8} + \\mu_{8} & 0 & 0 & 0 & 0 & 0 & 0 & 0 & 0 & 0 & 0\\\\30258 L_{3} + \\mu_{3} & 0 & 30258 L_{6} + \\mu_{6} & 0 & 30258 L_{8} + \\mu_{8} & 0 & 30258 L_{9} + \\mu_{9} & 0 & 0 & 0 & 0 & 0 & 0 & 0 & 0 & 0 & 0 & 0\\\\0 & - 30258 L_{3} - \\mu_{3} & 0 & - 30258 L_{6} - \\mu_{6} & 0 & 30258 L_{8} + \\mu_{8} & 0 & 30258 L_{9} + \\mu_{9} & 0 & 0 & 0 & 0 & 0 & 0 & 0 & 0 & 0 & 0\\\\0 & 0 & 0 & 0 & 0 & 0 & 0 & 0 & 30258 L_{10} + \\mu_{10} & 0 & 30258 L_{11} + \\mu_{11} & 0 & 30258 L_{12} + \\mu_{12} & 0 & 30258 L_{13} + \\mu_{13} & 0 & 0 & 0\\\\0 & 0 & 0 & 0 & 0 & 0 & 0 & 0 & 0 & 30258 L_{10} + \\mu_{10} & 0 & 30258 L_{11} + \\mu_{11} & 0 & - 30258 L_{12} - \\mu_{12} & 0 & - 30258 L_{13} - \\mu_{13} & 0 & 0\\\\0 & 0 & 0 & 0 & 0 & 0 & 0 & 0 & 30258 L_{11} + \\mu_{11} & 0 & 30258 L_{14} + \\mu_{14} & 0 & 30258 L_{15} + \\mu_{15} & 0 & 30258 L_{16} + \\mu_{16} & 0 & 0 & 0\\\\0 & 0 & 0 & 0 & 0 & 0 & 0 & 0 & 0 & 30258 L_{11} + \\mu_{11} & 0 & 30258 L_{14} + \\mu_{14} & 0 & - 30258 L_{15} - \\mu_{15} & 0 & - 30258 L_{16} - \\mu_{16} & 0 & 0\\\\0 & 0 & 0 & 0 & 0 & 0 & 0 & 0 & 30258 L_{12} + \\mu_{12} & 0 & 30258 L_{15} + \\mu_{15} & 0 & 30258 L_{17} + \\mu_{17} & 0 & 30258 L_{18} + \\mu_{18} & 0 & 0 & 0\\\\0 & 0 & 0 & 0 & 0 & 0 & 0 & 0 & 0 & - 30258 L_{12} - \\mu_{12} & 0 & - 30258 L_{15} - \\mu_{15} & 0 & 30258 L_{17} + \\mu_{17} & 0 & 30258 L_{18} + \\mu_{18} & 0 & 0\\\\0 & 0 & 0 & 0 & 0 & 0 & 0 & 0 & 30258 L_{13} + \\mu_{13} & 0 & 30258 L_{16} + \\mu_{16} & 0 & 30258 L_{18} + \\mu_{18} & 0 & 30258 L_{19} + \\mu_{19} & 0 & 0 & 0\\\\0 & 0 & 0 & 0 & 0 & 0 & 0 & 0 & 0 & - 30258 L_{13} - \\mu_{13} & 0 & - 30258 L_{16} - \\mu_{16} & 0 & 30258 L_{18} + \\mu_{18} & 0 & 30258 L_{19} + \\mu_{19} & 0 & 0\\\\0 & 0 & 0 & 0 & 0 & 0 & 0 & 0 & 0 & 0 & 0 & 0 & 0 & 0 & 0 & 0 & 181548 L_{20} + \\mu_{20} & 0\\\\0 & 0 & 0 & 0 & 0 & 0 & 0 & 0 & 0 & 0 & 0 & 0 & 0 & 0 & 0 & 0 & 0 & 60516 L_{20} + \\mu_{20}\\end{array}\\right]$"
      ],
      "text/plain": [
       "Matrix([\n",
       "[30258*L0 + mu0,               0, 30258*L1 + mu1,               0, 30258*L2 + mu2,               0, 30258*L3 + mu3,               0,                0,                 0,                0,                 0,                0,                 0,                0,                 0,                 0,                0],\n",
       "[             0,  30258*L0 + mu0,              0,  30258*L1 + mu1,              0, -30258*L2 - mu2,              0, -30258*L3 - mu3,                0,                 0,                0,                 0,                0,                 0,                0,                 0,                 0,                0],\n",
       "[30258*L1 + mu1,               0, 30258*L4 + mu4,               0, 30258*L5 + mu5,               0, 30258*L6 + mu6,               0,                0,                 0,                0,                 0,                0,                 0,                0,                 0,                 0,                0],\n",
       "[             0,  30258*L1 + mu1,              0,  30258*L4 + mu4,              0, -30258*L5 - mu5,              0, -30258*L6 - mu6,                0,                 0,                0,                 0,                0,                 0,                0,                 0,                 0,                0],\n",
       "[30258*L2 + mu2,               0, 30258*L5 + mu5,               0, 30258*L7 + mu7,               0, 30258*L8 + mu8,               0,                0,                 0,                0,                 0,                0,                 0,                0,                 0,                 0,                0],\n",
       "[             0, -30258*L2 - mu2,              0, -30258*L5 - mu5,              0,  30258*L7 + mu7,              0,  30258*L8 + mu8,                0,                 0,                0,                 0,                0,                 0,                0,                 0,                 0,                0],\n",
       "[30258*L3 + mu3,               0, 30258*L6 + mu6,               0, 30258*L8 + mu8,               0, 30258*L9 + mu9,               0,                0,                 0,                0,                 0,                0,                 0,                0,                 0,                 0,                0],\n",
       "[             0, -30258*L3 - mu3,              0, -30258*L6 - mu6,              0,  30258*L8 + mu8,              0,  30258*L9 + mu9,                0,                 0,                0,                 0,                0,                 0,                0,                 0,                 0,                0],\n",
       "[             0,               0,              0,               0,              0,               0,              0,               0, 30258*L10 + mu10,                 0, 30258*L11 + mu11,                 0, 30258*L12 + mu12,                 0, 30258*L13 + mu13,                 0,                 0,                0],\n",
       "[             0,               0,              0,               0,              0,               0,              0,               0,                0,  30258*L10 + mu10,                0,  30258*L11 + mu11,                0, -30258*L12 - mu12,                0, -30258*L13 - mu13,                 0,                0],\n",
       "[             0,               0,              0,               0,              0,               0,              0,               0, 30258*L11 + mu11,                 0, 30258*L14 + mu14,                 0, 30258*L15 + mu15,                 0, 30258*L16 + mu16,                 0,                 0,                0],\n",
       "[             0,               0,              0,               0,              0,               0,              0,               0,                0,  30258*L11 + mu11,                0,  30258*L14 + mu14,                0, -30258*L15 - mu15,                0, -30258*L16 - mu16,                 0,                0],\n",
       "[             0,               0,              0,               0,              0,               0,              0,               0, 30258*L12 + mu12,                 0, 30258*L15 + mu15,                 0, 30258*L17 + mu17,                 0, 30258*L18 + mu18,                 0,                 0,                0],\n",
       "[             0,               0,              0,               0,              0,               0,              0,               0,                0, -30258*L12 - mu12,                0, -30258*L15 - mu15,                0,  30258*L17 + mu17,                0,  30258*L18 + mu18,                 0,                0],\n",
       "[             0,               0,              0,               0,              0,               0,              0,               0, 30258*L13 + mu13,                 0, 30258*L16 + mu16,                 0, 30258*L18 + mu18,                 0, 30258*L19 + mu19,                 0,                 0,                0],\n",
       "[             0,               0,              0,               0,              0,               0,              0,               0,                0, -30258*L13 - mu13,                0, -30258*L16 - mu16,                0,  30258*L18 + mu18,                0,  30258*L19 + mu19,                 0,                0],\n",
       "[             0,               0,              0,               0,              0,               0,              0,               0,                0,                 0,                0,                 0,                0,                 0,                0,                 0, 181548*L20 + mu20,                0],\n",
       "[             0,               0,              0,               0,              0,               0,              0,               0,                0,                 0,                0,                 0,                0,                 0,                0,                 0,                 0, 60516*L20 + mu20]])"
      ]
     },
     "execution_count": 4,
     "metadata": {},
     "output_type": "execute_result"
    }
   ],
   "source": [
    "\"\"\" \n",
    "Secound derivative condition\n",
    "\"\"\"\n",
    "# Defining the double derivative Hessian matrix\n",
    "Hessian = [[0 for _ in range(n)] for _ in range(n)]\n",
    "\n",
    "for i in range(0, n):\n",
    "    for j in range(0, n):\n",
    "        Hessian[i][j] = smp.diff(smp.diff(potential, der_symbols[i]) , der_symbols[j]).subs(sub_dict)\n",
    "\n",
    "Sym_Hessian = smp.Matrix(Hessian)\n",
    "\n",
    "Sym_Hessian"
   ]
  },
  {
   "cell_type": "markdown",
   "metadata": {},
   "source": []
  },
  {
   "cell_type": "code",
   "execution_count": 5,
   "metadata": {},
   "outputs": [
    {
     "data": {
      "text/latex": [
       "$\\displaystyle \\left[\\begin{matrix}30258 L_{0} + \\mu_{0} & 0 & 30258 L_{1} + \\mu_{1} & 0 & 30258 L_{2} + \\mu_{2} & 0 & 30258 L_{3} + \\mu_{3} & 0\\\\0 & 30258 L_{0} + \\mu_{0} & 0 & 30258 L_{1} + \\mu_{1} & 0 & - 30258 L_{2} - \\mu_{2} & 0 & - 30258 L_{3} - \\mu_{3}\\\\30258 L_{1} + \\mu_{1} & 0 & 30258 L_{4} + \\mu_{4} & 0 & 30258 L_{5} + \\mu_{5} & 0 & 30258 L_{6} + \\mu_{6} & 0\\\\0 & 30258 L_{1} + \\mu_{1} & 0 & 30258 L_{4} + \\mu_{4} & 0 & - 30258 L_{5} - \\mu_{5} & 0 & - 30258 L_{6} - \\mu_{6}\\\\30258 L_{2} + \\mu_{2} & 0 & 30258 L_{5} + \\mu_{5} & 0 & 30258 L_{7} + \\mu_{7} & 0 & 30258 L_{8} + \\mu_{8} & 0\\\\0 & - 30258 L_{2} - \\mu_{2} & 0 & - 30258 L_{5} - \\mu_{5} & 0 & 30258 L_{7} + \\mu_{7} & 0 & 30258 L_{8} + \\mu_{8}\\\\30258 L_{3} + \\mu_{3} & 0 & 30258 L_{6} + \\mu_{6} & 0 & 30258 L_{8} + \\mu_{8} & 0 & 30258 L_{9} + \\mu_{9} & 0\\\\0 & - 30258 L_{3} - \\mu_{3} & 0 & - 30258 L_{6} - \\mu_{6} & 0 & 30258 L_{8} + \\mu_{8} & 0 & 30258 L_{9} + \\mu_{9}\\end{matrix}\\right]$"
      ],
      "text/plain": [
       "Matrix([\n",
       "[30258*L0 + mu0,               0, 30258*L1 + mu1,               0, 30258*L2 + mu2,               0, 30258*L3 + mu3,               0],\n",
       "[             0,  30258*L0 + mu0,              0,  30258*L1 + mu1,              0, -30258*L2 - mu2,              0, -30258*L3 - mu3],\n",
       "[30258*L1 + mu1,               0, 30258*L4 + mu4,               0, 30258*L5 + mu5,               0, 30258*L6 + mu6,               0],\n",
       "[             0,  30258*L1 + mu1,              0,  30258*L4 + mu4,              0, -30258*L5 - mu5,              0, -30258*L6 - mu6],\n",
       "[30258*L2 + mu2,               0, 30258*L5 + mu5,               0, 30258*L7 + mu7,               0, 30258*L8 + mu8,               0],\n",
       "[             0, -30258*L2 - mu2,              0, -30258*L5 - mu5,              0,  30258*L7 + mu7,              0,  30258*L8 + mu8],\n",
       "[30258*L3 + mu3,               0, 30258*L6 + mu6,               0, 30258*L8 + mu8,               0, 30258*L9 + mu9,               0],\n",
       "[             0, -30258*L3 - mu3,              0, -30258*L6 - mu6,              0,  30258*L8 + mu8,              0,  30258*L9 + mu9]])"
      ]
     },
     "execution_count": 5,
     "metadata": {},
     "output_type": "execute_result"
    }
   ],
   "source": [
    "\"\"\"\n",
    "Exploiting the block diagonal form of the Hessian matrix we can start with problem of obtaining parameter range in which the first block diagonal eigenvalue is positive\n",
    "\n",
    "\"\"\"\n",
    "Reduced_hessian = Sym_Hessian[:8, :8]\n",
    "\n",
    "Reduced_hessian"
   ]
  },
  {
   "cell_type": "code",
   "execution_count": 180,
   "metadata": {},
   "outputs": [
    {
     "ename": "ValueError",
     "evalue": "Unknown solver dual_annealing",
     "output_type": "error",
     "traceback": [
      "\u001b[0;31m---------------------------------------------------------------------------\u001b[0m",
      "\u001b[0;31mValueError\u001b[0m                                Traceback (most recent call last)",
      "Cell \u001b[0;32mIn[180], line 37\u001b[0m\n\u001b[1;32m     34\u001b[0m initial_guess \u001b[39m=\u001b[39m good_para \u001b[39m=\u001b[39m [a[\u001b[39m0\u001b[39m], a[\u001b[39m1\u001b[39m], a[\u001b[39m2\u001b[39m], a[\u001b[39m3\u001b[39m], a[\u001b[39m4\u001b[39m], a[\u001b[39m5\u001b[39m], a[\u001b[39m6\u001b[39m], a[\u001b[39m7\u001b[39m], a[\u001b[39m8\u001b[39m], a[\u001b[39m9\u001b[39m], a[\u001b[39m10\u001b[39m], a[\u001b[39m11\u001b[39m], a[\u001b[39m12\u001b[39m], \u001b[39m0\u001b[39m, \u001b[39m0\u001b[39m, \u001b[39m0\u001b[39m, \u001b[39m0\u001b[39m , \u001b[39m0\u001b[39m, \u001b[39m0\u001b[39m, \u001b[39m0\u001b[39m]\n\u001b[1;32m     35\u001b[0m \u001b[39m# np.random.uniform(min_value, max_value, 20)\u001b[39;00m\n\u001b[0;32m---> 37\u001b[0m result \u001b[39m=\u001b[39m scipy\u001b[39m.\u001b[39;49moptimize\u001b[39m.\u001b[39;49mminimize(objective_func, initial_guess, method\u001b[39m=\u001b[39;49m\u001b[39m'\u001b[39;49m\u001b[39mdual_annealing\u001b[39;49m\u001b[39m'\u001b[39;49m, bounds \u001b[39m=\u001b[39;49m parameter_bound)\n\u001b[1;32m     39\u001b[0m optimized_parameters \u001b[39m=\u001b[39m result\u001b[39m.\u001b[39mx\n\u001b[1;32m     40\u001b[0m minimzed_value \u001b[39m=\u001b[39m result\u001b[39m.\u001b[39mfun\n",
      "File \u001b[0;32m~/.local/lib/python3.8/site-packages/scipy/optimize/_minimize.py:724\u001b[0m, in \u001b[0;36mminimize\u001b[0;34m(fun, x0, args, method, jac, hess, hessp, bounds, constraints, tol, callback, options)\u001b[0m\n\u001b[1;32m    721\u001b[0m     res \u001b[39m=\u001b[39m _minimize_trustregion_exact(fun, x0, args, jac, hess,\n\u001b[1;32m    722\u001b[0m                                       callback\u001b[39m=\u001b[39mcallback, \u001b[39m*\u001b[39m\u001b[39m*\u001b[39moptions)\n\u001b[1;32m    723\u001b[0m \u001b[39melse\u001b[39;00m:\n\u001b[0;32m--> 724\u001b[0m     \u001b[39mraise\u001b[39;00m \u001b[39mValueError\u001b[39;00m(\u001b[39m'\u001b[39m\u001b[39mUnknown solver \u001b[39m\u001b[39m%s\u001b[39;00m\u001b[39m'\u001b[39m \u001b[39m%\u001b[39m method)\n\u001b[1;32m    726\u001b[0m \u001b[39mif\u001b[39;00m remove_vars:\n\u001b[1;32m    727\u001b[0m     res\u001b[39m.\u001b[39mx \u001b[39m=\u001b[39m _add_to_array(res\u001b[39m.\u001b[39mx, i_fixed, x_fixed)\n",
      "\u001b[0;31mValueError\u001b[0m: Unknown solver dual_annealing"
     ]
    }
   ],
   "source": [
    "import scipy.optimize \n",
    "\n",
    "# Function to evaluate the Matrix Eigenvalues\n",
    "\n",
    "def Matrix_eigenvalues(parameter_values):\n",
    "    Num_Reduced_Hessian = np.array(Reduced_hessian.subs(parameter_values).tolist(), dtype=float)\n",
    "    return np.linalg.eigvals(Num_Reduced_Hessian)\n",
    "\n",
    "\n",
    "def objective_func(para_val):\n",
    "\n",
    "    # Defining the dictionary to substitute the values\n",
    "    para_dict = {}\n",
    "    N = len(para_val)  # N = 20\n",
    "    \n",
    "    # Reduced symbolic expressions\n",
    "    mu_reduced = mu[:N//2]\n",
    "    L_reduced = L[:N//2]\n",
    "\n",
    "    for i in range(0, N//2):\n",
    "        para_dict[mu_reduced[i]] = para_val[i]\n",
    "        para_dict[L_reduced[i]] = para_val[N//2 + i]\n",
    "\n",
    "    eigenvalues = Matrix_eigenvalues(para_dict)\n",
    "    count_positive = np.sum(eigenvalues > 0)\n",
    "\n",
    "    return -count_positive\n",
    "    \n",
    "# Defining an initial guess\n",
    "min_value = -10**(-6)\n",
    "max_value =  np.pi\n",
    "parameter_bound = [(min_value, max_value)] * 20\n",
    "a = np.random.uniform(min_value, max_value, 20)\n",
    "initial_guess = good_para = [a[0], a[1], a[2], a[3], a[4], a[5], a[6], a[7], a[8], a[9], a[10], a[11], a[12], 0, 0, 0, 0 , 0, 0, 0]\n",
    "# np.random.uniform(min_value, max_value, 20)\n",
    "\n",
    "result = scipy.optimize.minimize(objective_func, initial_guess, method='dual_annealing', bounds = parameter_bound)\n",
    "\n",
    "optimized_parameters = result.x\n",
    "minimzed_value = result.fun\n",
    "\n",
    "print(optimized_parameters)\n",
    "print(minimzed_value)"
   ]
  },
  {
   "cell_type": "code",
   "execution_count": 149,
   "metadata": {},
   "outputs": [
    {
     "data": {
      "text/plain": [
       "array([2.28900385, 1.49319452, 0.20775147, 7.23757703, 7.23757703,\n",
       "       0.20775147, 2.28900385, 1.49319452])"
      ]
     },
     "execution_count": 149,
     "metadata": {},
     "output_type": "execute_result"
    }
   ],
   "source": [
    "# Printing out the eigenvalues\n",
    "\n",
    "# Defining the dictionary\n",
    "N = 20\n",
    "optimized_dict = {}\n",
    "mu_opt = mu[:N//2]\n",
    "L_opt = L[:N//2]\n",
    "\n",
    "for i in range(0, N//2):\n",
    "    \n",
    "    optimized_dict[mu_opt[i]] = optimized_parameters[i]\n",
    "    optimized_dict[L_opt[i]] = optimized_parameters[N//2 + i]\n",
    "\n",
    "Matrix_eigenvalues(optimized_dict)"
   ]
  },
  {
   "cell_type": "code",
   "execution_count": 23,
   "metadata": {},
   "outputs": [
    {
     "data": {
      "text/plain": [
       "array([10., 10.,  1.,  1.,  2.,  2., 13., 13.])"
      ]
     },
     "execution_count": 23,
     "metadata": {},
     "output_type": "execute_result"
    }
   ],
   "source": [
    "good_para = [1, 0, 0, 0, 1, 0, 0, 1, 0, 1, 0, 0, 0, 0, 0, 0, 0 , 0, 0, 0]\n",
    "\n",
    "N = 20\n",
    "good_dict = {}\n",
    "mu_good = mu[:N//2]\n",
    "L_good = L[:N//2]\n",
    "\n",
    "for i in range(0, N//2):\n",
    "    \n",
    "    good_dict[mu_opt[i]] = good_para[i]\n",
    "    good_dict[L_opt[i]] = good_para[N//2 + i]\n",
    "\n",
    "Matrix_eigenvalues(good_dict)\n"
   ]
  },
  {
   "cell_type": "code",
   "execution_count": null,
   "metadata": {},
   "outputs": [],
   "source": []
  }
 ],
 "metadata": {
  "kernelspec": {
   "display_name": "Python 3",
   "language": "python",
   "name": "python3"
  },
  "language_info": {
   "codemirror_mode": {
    "name": "ipython",
    "version": 3
   },
   "file_extension": ".py",
   "mimetype": "text/x-python",
   "name": "python",
   "nbconvert_exporter": "python",
   "pygments_lexer": "ipython3",
   "version": "3.8.10"
  }
 },
 "nbformat": 4,
 "nbformat_minor": 2
}
